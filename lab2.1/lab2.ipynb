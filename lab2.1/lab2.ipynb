{
 "cells": [
  {
   "cell_type": "code",
   "execution_count": 17,
   "metadata": {},
   "outputs": [],
   "source": [
    "import matplotlib.image as mpimg \n",
    "import matplotlib.pyplot as plt \n",
    "import numpy as np\n",
    "import imgaug.augmenters as iaa\n",
    "import cv2\n",
    "import statistics\n",
    "import pandas as pd\n",
    "import math\n",
    "from skimage.transform import hough_circle\n",
    "from skimage.feature import canny"
   ]
  },
  {
   "cell_type": "code",
   "execution_count": 18,
   "metadata": {},
   "outputs": [],
   "source": [
    "dic = \"circles\"\n",
    "files = [str(dic + \"/\" + x) for x in [\"circles.png\", \"circles_blur.png\", \"circles_diff.png\", \"circles_noise.png\", \"circles_elipsa.png\", \"circles_scale.png\", \"circles_cross.png\"]]"
   ]
  },
  {
   "cell_type": "code",
   "execution_count": 19,
   "metadata": {},
   "outputs": [
    {
     "data": {
      "text/plain": [
       "<Figure size 1440x1440 with 0 Axes>"
      ]
     },
     "execution_count": 19,
     "metadata": {},
     "output_type": "execute_result"
    },
    {
     "data": {
      "text/plain": [
       "<Figure size 1440x1440 with 0 Axes>"
      ]
     },
     "metadata": {},
     "output_type": "display_data"
    }
   ],
   "source": [
    "P = cv2.imread(files[6],0)\n",
    "_, P = cv2.threshold(P, 128, 255, cv2.THRESH_TRUNC)\n",
    "plt.figure(figsize = (20,20))\n",
    "# plt.imshow(P) "
   ]
  },
  {
   "cell_type": "code",
   "execution_count": 20,
   "metadata": {},
   "outputs": [],
   "source": [
    "img = cv2.imread(files[0],0)\n",
    "img = cv2.medianBlur(img,5)\n",
    "cimg = cv2.cvtColor(img,cv2.COLOR_GRAY2BGR)"
   ]
  },
  {
   "cell_type": "code",
   "execution_count": 22,
   "metadata": {},
   "outputs": [],
   "source": [
    "circles = cv2.HoughCircles(img,cv2.HOUGH_GRADIENT,1,100, param1=80,param2=80,minRadius=0,maxRadius=0)\n",
    "\n",
    "circles = np.uint16(np.around(circles))\n",
    "for i in circles[0,:]:\n",
    "    cv2.circle(cimg,(i[0],i[1]),i[2],(0,255,0),2)\n",
    "    cv2.circle(cimg,(i[0],i[1]),2,(0,0,255),3)\n",
    "    cv2.imwrite(\"test.bmp\", cimg)"
   ]
  },
  {
   "cell_type": "code",
   "execution_count": 71,
   "metadata": {},
   "outputs": [
    {
     "data": {
      "text/plain": [
       "True"
      ]
     },
     "execution_count": 71,
     "metadata": {},
     "output_type": "execute_result"
    }
   ],
   "source": [
    "from skimage.util import img_as_ubyte\n",
    "\n",
    "img = cv2.imread(files[6],0)\n",
    "\n",
    "\n",
    "image = img_as_ubyte(img)\n",
    "\n",
    "edges = canny(image, sigma=3, low_threshold=10, high_threshold=10)\n",
    "    \n",
    "hough_res = hough_circle(edges, range(50, 250, 30), normalize=False)\n",
    "def add_arrays(arr_1, arr_2):\n",
    "    for i in range(len(arr_2)):\n",
    "        for j in range(len(arr_2)):\n",
    "            arr_1[i][j] += arr_2[i][j]\n",
    "            \n",
    "    return arr_1\n",
    "\n",
    "\n",
    "hough_res[0].shape = (1080, 1080)\n",
    "r = hough_res[0]\n",
    "for i in hough_res[1:]:\n",
    "    i.shape = (1080, 1080)\n",
    "    r = add_arrays(i, r)\n",
    "cv2.imwrite(\"test.bmp\", r)"
   ]
  },
  {
   "cell_type": "code",
   "execution_count": null,
   "metadata": {},
   "outputs": [],
   "source": []
  }
 ],
 "metadata": {
  "kernelspec": {
   "display_name": "venv",
   "language": "python",
   "name": "venv"
  },
  "language_info": {
   "codemirror_mode": {
    "name": "ipython",
    "version": 3
   },
   "file_extension": ".py",
   "mimetype": "text/x-python",
   "name": "python",
   "nbconvert_exporter": "python",
   "pygments_lexer": "ipython3",
   "version": "3.8.6"
  }
 },
 "nbformat": 4,
 "nbformat_minor": 4
}
