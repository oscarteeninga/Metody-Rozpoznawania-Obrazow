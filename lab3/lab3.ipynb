{
 "cells": [
  {
   "cell_type": "code",
   "execution_count": 1,
   "metadata": {},
   "outputs": [],
   "source": [
    "import matplotlib.image as mpimg \n",
    "import matplotlib.pyplot as plt \n",
    "import numpy as np\n",
    "import imgaug.augmenters as iaa\n",
    "import cv2\n",
    "import statistics\n",
    "import pandas as pd\n",
    "import math"
   ]
  },
  {
   "cell_type": "code",
   "execution_count": 2,
   "metadata": {},
   "outputs": [
    {
     "data": {
      "text/plain": [
       "True"
      ]
     },
     "execution_count": 2,
     "metadata": {},
     "output_type": "execute_result"
    }
   ],
   "source": [
    "file = \"catalina.png\"\n",
    "img = cv2.imread(file, cv2.IMREAD_GRAYSCALE)\n",
    "img = np.float32(img)\n",
    "cv2.imwrite(\"catalyna_gray.png\", img)"
   ]
  },
  {
   "cell_type": "code",
   "execution_count": 3,
   "metadata": {},
   "outputs": [],
   "source": [
    "def low_frequency(image, size=0.3):\n",
    "    width = int(len(image)*size)\n",
    "    height = int(len(image[0])*size)\n",
    "    for i in range(len(image)):\n",
    "        for j in range(len(image[i])):\n",
    "            if i > width or j > height:\n",
    "                image[i][j] = 0\n",
    "    return image\n",
    "            \n",
    "function = low_frequency"
   ]
  },
  {
   "cell_type": "code",
   "execution_count": 4,
   "metadata": {},
   "outputs": [],
   "source": [
    "def not_low_frequency(image, size=0.025):\n",
    "    width = int(len(image)*size)\n",
    "    height = int(len(image[0])*size)\n",
    "    for i in range(width):\n",
    "        for j in range(height):\n",
    "            image[i][j] = 0\n",
    "    return image\n",
    "\n",
    "function = not_low_frequency"
   ]
  },
  {
   "cell_type": "code",
   "execution_count": 5,
   "metadata": {},
   "outputs": [],
   "source": [
    "def dist(a, b, c = 5000):\n",
    "    return math.sqrt(a*a+b*b)+c\n",
    "\n",
    "def ratio_low_frequency(image, size=1):\n",
    "    width = int(len(image)*size)\n",
    "    height = int(len(image[0])*size)\n",
    "    max_dist = dist(width, height)\n",
    "    for i in range(len(image)):\n",
    "        for j in range(len(image[i])):\n",
    "            image[i][j] = image[i][j]*dist(i,j)/max_dist\n",
    "    return image\n",
    "\n",
    "function = ratio_low_frequency"
   ]
  },
  {
   "cell_type": "code",
   "execution_count": 6,
   "metadata": {},
   "outputs": [],
   "source": [
    "def not_mid_frequency(image, size=0.9):\n",
    "    width = int(len(image))\n",
    "    height = int(len(image[0]))\n",
    "    w_begin = int(width/2 - size*width/2)\n",
    "    w_end = int(width/2 + size*width/2)\n",
    "    h_begin = int(height/2 - size*height/2)\n",
    "    h_end = int(height/2 + size*height/2)\n",
    "    for i in range(w_begin, w_end):\n",
    "        for j in range(h_begin, h_end):\n",
    "            image[i][j] = 0\n",
    "    return image\n",
    "\n",
    "function = not_mid_frequency"
   ]
  },
  {
   "cell_type": "code",
   "execution_count": 7,
   "metadata": {},
   "outputs": [],
   "source": [
    "e_file = \"extra.png\"\n",
    "e_img = cv2.imread(e_file, cv2.IMREAD_GRAYSCALE)\n",
    "e_img = np.float32(e_img)\n",
    "e_dct = cv2.dct(e_img)\n",
    "\n",
    "def two_images(image):\n",
    "    width = int(len(image))\n",
    "    height = int(len(image[0]))\n",
    "    return np.float32([[0.25*e_dct[i][j] + 0.75*image[i][j] for j in range(height)] for i in range(width)])\n",
    "            \n",
    "function = two_images"
   ]
  },
  {
   "cell_type": "code",
   "execution_count": 8,
   "metadata": {},
   "outputs": [],
   "source": [
    "def sample(image, size=0.1):\n",
    "    pix = len(image)*len(image[0])\n",
    "    mask = np.random.randint(100, size=(len(image), len(image[0])))\n",
    "    return np.float32([[image[i][j] if mask[i][j] < 100*size else 0 for j in range(len(image[0]))] for i in range(len(image))])        \n",
    "\n",
    "function = sample"
   ]
  },
  {
   "cell_type": "code",
   "execution_count": 203,
   "metadata": {},
   "outputs": [
    {
     "data": {
      "text/plain": [
       "True"
      ]
     },
     "execution_count": 203,
     "metadata": {},
     "output_type": "execute_result"
    }
   ],
   "source": [
    "dct = cv2.dct(img)\n",
    "dct = function(dct)\n",
    "\n",
    "cv2.imwrite(\"dtc.png\", np.abs(dct))"
   ]
  },
  {
   "cell_type": "code",
   "execution_count": 197,
   "metadata": {},
   "outputs": [
    {
     "data": {
      "text/plain": [
       "True"
      ]
     },
     "execution_count": 197,
     "metadata": {},
     "output_type": "execute_result"
    }
   ],
   "source": [
    "inv_image = cv2.idct(dct)\n",
    "inv_image = np.uint8(np.abs(inv_image))\n",
    "cv2.imwrite(\"dtc_inv.png\", inv_image)"
   ]
  },
  {
   "cell_type": "code",
   "execution_count": 23,
   "metadata": {},
   "outputs": [
    {
     "ename": "ModuleNotFoundError",
     "evalue": "No module named 'cvxpy'",
     "output_type": "error",
     "traceback": [
      "\u001b[0;31m---------------------------------------------------------------------------\u001b[0m",
      "\u001b[0;31mModuleNotFoundError\u001b[0m                       Traceback (most recent call last)",
      "\u001b[0;32m<ipython-input-23-ab904f9a35b1>\u001b[0m in \u001b[0;36m<module>\u001b[0;34m\u001b[0m\n\u001b[1;32m      5\u001b[0m \u001b[0;32mimport\u001b[0m \u001b[0mscipy\u001b[0m\u001b[0;34m.\u001b[0m\u001b[0mfftpack\u001b[0m \u001b[0;32mas\u001b[0m \u001b[0mspfft\u001b[0m\u001b[0;34m\u001b[0m\u001b[0;34m\u001b[0m\u001b[0m\n\u001b[1;32m      6\u001b[0m \u001b[0;32mimport\u001b[0m \u001b[0mscipy\u001b[0m\u001b[0;34m.\u001b[0m\u001b[0mndimage\u001b[0m \u001b[0;32mas\u001b[0m \u001b[0mspimg\u001b[0m\u001b[0;34m\u001b[0m\u001b[0;34m\u001b[0m\u001b[0m\n\u001b[0;32m----> 7\u001b[0;31m \u001b[0;32mimport\u001b[0m \u001b[0mcvxpy\u001b[0m \u001b[0;32mas\u001b[0m \u001b[0mcvx\u001b[0m\u001b[0;34m\u001b[0m\u001b[0;34m\u001b[0m\u001b[0m\n\u001b[0m",
      "\u001b[0;31mModuleNotFoundError\u001b[0m: No module named 'cvxpy'"
     ]
    }
   ],
   "source": [
    "import numpy as np\n",
    "import matplotlib as mpl\n",
    "import matplotlib.pyplot as plt\n",
    "import scipy.optimize as spopt\n",
    "import scipy.fftpack as spfft\n",
    "import scipy.ndimage as spimg\n",
    "import cvxpy as cvx"
   ]
  },
  {
   "cell_type": "code",
   "execution_count": 24,
   "metadata": {},
   "outputs": [],
   "source": [
    "def dct2(x):\n",
    "    return spfft.dct(spfft.dct(x.T, norm='ortho', axis=0).T, norm='ortho', axis=0)\n",
    "\n",
    "def idct2(x):\n",
    "    return spfft.idct(spfft.idct(x.T, norm='ortho', axis=0).T, norm='ortho', axis=0)"
   ]
  },
  {
   "cell_type": "code",
   "execution_count": 28,
   "metadata": {},
   "outputs": [
    {
     "ename": "AttributeError",
     "evalue": "module 'scipy.ndimage' has no attribute 'imread'",
     "output_type": "error",
     "traceback": [
      "\u001b[0;31m---------------------------------------------------------------------------\u001b[0m",
      "\u001b[0;31mAttributeError\u001b[0m                            Traceback (most recent call last)",
      "\u001b[0;32m<ipython-input-28-7ec9e9758a0e>\u001b[0m in \u001b[0;36m<module>\u001b[0;34m\u001b[0m\n\u001b[1;32m     38\u001b[0m \u001b[0;34m\u001b[0m\u001b[0m\n\u001b[1;32m     39\u001b[0m \u001b[0;31m# read original image\u001b[0m\u001b[0;34m\u001b[0m\u001b[0;34m\u001b[0m\u001b[0;34m\u001b[0m\u001b[0m\n\u001b[0;32m---> 40\u001b[0;31m \u001b[0mXorig\u001b[0m \u001b[0;34m=\u001b[0m \u001b[0mspimg\u001b[0m\u001b[0;34m.\u001b[0m\u001b[0mimread\u001b[0m\u001b[0;34m(\u001b[0m\u001b[0;34m'catalina2.png'\u001b[0m\u001b[0;34m)\u001b[0m\u001b[0;34m\u001b[0m\u001b[0;34m\u001b[0m\u001b[0m\n\u001b[0m\u001b[1;32m     41\u001b[0m \u001b[0mny\u001b[0m\u001b[0;34m,\u001b[0m\u001b[0mnx\u001b[0m\u001b[0;34m,\u001b[0m\u001b[0mnchan\u001b[0m \u001b[0;34m=\u001b[0m \u001b[0mXorig\u001b[0m\u001b[0;34m.\u001b[0m\u001b[0mshape\u001b[0m\u001b[0;34m\u001b[0m\u001b[0;34m\u001b[0m\u001b[0m\n\u001b[1;32m     42\u001b[0m \u001b[0;34m\u001b[0m\u001b[0m\n",
      "\u001b[0;31mAttributeError\u001b[0m: module 'scipy.ndimage' has no attribute 'imread'"
     ]
    }
   ],
   "source": [
    "from pylbfgs import owlqn\n",
    "\n",
    "def evaluate(x, g, step):\n",
    "    \"\"\"An in-memory evaluation callback.\"\"\"\n",
    "\n",
    "    # we want to return two things: \n",
    "    # (1) the norm squared of the residuals, sum((Ax-b).^2), and\n",
    "    # (2) the gradient 2*A'(Ax-b)\n",
    "\n",
    "    # expand x columns-first\n",
    "    x2 = x.reshape((nx, ny)).T\n",
    "\n",
    "    # Ax is just the inverse 2D dct of x2\n",
    "    Ax2 = idct2(x2)\n",
    "\n",
    "    # stack columns and extract samples\n",
    "    Ax = Ax2.T.flat[ri].reshape(b.shape)\n",
    "\n",
    "    # calculate the residual Ax-b and its 2-norm squared\n",
    "    Axb = Ax - b\n",
    "    fx = np.sum(np.power(Axb, 2))\n",
    "\n",
    "    # project residual vector (k x 1) onto blank image (ny x nx)\n",
    "    Axb2 = np.zeros(x2.shape)\n",
    "    Axb2.T.flat[ri] = Axb # fill columns-first\n",
    "\n",
    "    # A'(Ax-b) is just the 2D dct of Axb2\n",
    "    AtAxb2 = 2 * dct2(Axb2)\n",
    "    AtAxb = AtAxb2.T.reshape(x.shape) # stack columns\n",
    "\n",
    "    # copy over the gradient vector\n",
    "    np.copyto(g, AtAxb)\n",
    "\n",
    "    return fx\n",
    "\n",
    "# fractions of the scaled image to randomly sample at\n",
    "sample_sizes = (0.1, 0.01)\n",
    "\n",
    "# read original image\n",
    "Xorig = spimg.imread('catalina2.png')\n",
    "ny,nx,nchan = Xorig.shape\n",
    "\n",
    "# for each sample size\n",
    "Z = [np.zeros(Xorig.shape, dtype='uint8') for s in sample_sizes]\n",
    "masks = [np.zeros(Xorig.shape, dtype='uint8') for s in sample_sizes]\n",
    "for i,s in enumerate(sample_sizes):\n",
    "\n",
    "    # create random sampling index vector\n",
    "    k = round(nx * ny * s)\n",
    "    ri = np.random.choice(nx * ny, k, replace=False) # random sample of indices\n",
    "\n",
    "    # for each color channel\n",
    "    for j in range(nchan):\n",
    "\n",
    "        # extract channel\n",
    "        X = Xorig[:,:,j].squeeze()\n",
    "\n",
    "        # create images of mask (for visualization)\n",
    "        Xm = 255 * np.ones(X.shape)\n",
    "        Xm.T.flat[ri] = X.T.flat[ri]\n",
    "        masks[i][:,:,j] = Xm\n",
    "\n",
    "        # take random samples of image, store them in a vector b\n",
    "        b = X.T.flat[ri].astype(float)\n",
    "\n",
    "        # perform the L1 minimization in memory\n",
    "        Xat2 = owlqn(nx*ny, evaluate, None, 5)\n",
    "\n",
    "        # transform the output back into the spatial domain\n",
    "        Xat = Xat2.reshape(nx, ny).T # stack columns\n",
    "        Xa = idct2(Xat)\n",
    "        Z[i][:,:,j] = Xa.astype('uint8')"
   ]
  },
  {
   "cell_type": "code",
   "execution_count": null,
   "metadata": {},
   "outputs": [],
   "source": []
  }
 ],
 "metadata": {
  "kernelspec": {
   "display_name": "venv",
   "language": "python",
   "name": "venv"
  },
  "language_info": {
   "codemirror_mode": {
    "name": "ipython",
    "version": 3
   },
   "file_extension": ".py",
   "mimetype": "text/x-python",
   "name": "python",
   "nbconvert_exporter": "python",
   "pygments_lexer": "ipython3",
   "version": "3.8.6"
  }
 },
 "nbformat": 4,
 "nbformat_minor": 4
}
