{
 "cells": [
  {
   "cell_type": "code",
   "execution_count": 12,
   "metadata": {},
   "outputs": [],
   "source": [
    "import matplotlib.image as mpimg \n",
    "import matplotlib.pyplot as plt \n",
    "import numpy as np\n",
    "import imgaug.augmenters as iaa\n",
    "import cv2\n",
    "import statistics\n",
    "import pandas as pd\n",
    "import math"
   ]
  },
  {
   "cell_type": "code",
   "execution_count": 2,
   "metadata": {},
   "outputs": [
    {
     "data": {
      "text/plain": [
       "True"
      ]
     },
     "execution_count": 2,
     "metadata": {},
     "output_type": "execute_result"
    }
   ],
   "source": [
    "file = \"catalina.png\"\n",
    "img = cv2.imread(file, cv2.IMREAD_GRAYSCALE)\n",
    "img = np.float32(img)\n",
    "cv2.imwrite(\"catalyna_gray.png\", img)"
   ]
  },
  {
   "cell_type": "code",
   "execution_count": 3,
   "metadata": {},
   "outputs": [],
   "source": [
    "def low_frequency(image, size=0.3):\n",
    "    width = int(len(image)*size)\n",
    "    height = int(len(image[0])*size)\n",
    "    for i in range(len(image)):\n",
    "        for j in range(len(image[i])):\n",
    "            if i > width or j > height:\n",
    "                image[i][j] = 0\n",
    "    return image\n",
    "            \n",
    "function = low_frequency"
   ]
  },
  {
   "cell_type": "code",
   "execution_count": 4,
   "metadata": {},
   "outputs": [],
   "source": [
    "def not_low_frequency(image, size=0.025):\n",
    "    width = int(len(image)*size)\n",
    "    height = int(len(image[0])*size)\n",
    "    for i in range(width):\n",
    "        for j in range(height):\n",
    "            image[i][j] = 0\n",
    "    return image\n",
    "\n",
    "function = not_low_frequency"
   ]
  },
  {
   "cell_type": "code",
   "execution_count": 5,
   "metadata": {},
   "outputs": [],
   "source": [
    "def dist(a, b, c = 5000):\n",
    "    return math.sqrt(a*a+b*b)+c\n",
    "\n",
    "def ratio_low_frequency(image, size=1):\n",
    "    width = int(len(image)*size)\n",
    "    height = int(len(image[0])*size)\n",
    "    max_dist = dist(width, height)\n",
    "    for i in range(len(image)):\n",
    "        for j in range(len(image[i])):\n",
    "            image[i][j] = image[i][j]*dist(i,j)/max_dist\n",
    "    return image\n",
    "\n",
    "function = ratio_low_frequency"
   ]
  },
  {
   "cell_type": "code",
   "execution_count": 6,
   "metadata": {},
   "outputs": [],
   "source": [
    "def not_mid_frequency(image, size=0.9):\n",
    "    width = int(len(image))\n",
    "    height = int(len(image[0]))\n",
    "    w_begin = int(width/2 - size*width/2)\n",
    "    w_end = int(width/2 + size*width/2)\n",
    "    h_begin = int(height/2 - size*height/2)\n",
    "    h_end = int(height/2 + size*height/2)\n",
    "    for i in range(w_begin, w_end):\n",
    "        for j in range(h_begin, h_end):\n",
    "            image[i][j] = 0\n",
    "    return image\n",
    "\n",
    "function = not_mid_frequency"
   ]
  },
  {
   "cell_type": "code",
   "execution_count": 7,
   "metadata": {},
   "outputs": [],
   "source": [
    "e_file = \"extra.png\"\n",
    "e_img = cv2.imread(e_file, cv2.IMREAD_GRAYSCALE)\n",
    "e_img = np.float32(e_img)\n",
    "e_dct = cv2.dct(e_img)\n",
    "\n",
    "def two_images(image):\n",
    "    width = int(len(image))\n",
    "    height = int(len(image[0]))\n",
    "    return np.float32([[0.25*e_dct[i][j] + 0.75*image[i][j] for j in range(height)] for i in range(width)])\n",
    "            \n",
    "function = two_images"
   ]
  },
  {
   "cell_type": "code",
   "execution_count": 8,
   "metadata": {},
   "outputs": [],
   "source": [
    "def sample(image, size=0.1):\n",
    "    pix = len(image)*len(image[0])\n",
    "    mask = np.random.randint(100, size=(len(image), len(image[0])))\n",
    "    return np.float32([[image[i][j] if mask[i][j] < 100*size else 0 for j in range(len(image[0]))] for i in range(len(image))])        \n",
    "\n",
    "function = sample"
   ]
  },
  {
   "cell_type": "code",
   "execution_count": 203,
   "metadata": {},
   "outputs": [
    {
     "data": {
      "text/plain": [
       "True"
      ]
     },
     "execution_count": 203,
     "metadata": {},
     "output_type": "execute_result"
    }
   ],
   "source": [
    "dct = cv2.dct(img)\n",
    "dct = function(dct)\n",
    "\n",
    "cv2.imwrite(\"dtc.png\", np.abs(dct))"
   ]
  },
  {
   "cell_type": "code",
   "execution_count": 197,
   "metadata": {},
   "outputs": [
    {
     "data": {
      "text/plain": [
       "True"
      ]
     },
     "execution_count": 197,
     "metadata": {},
     "output_type": "execute_result"
    }
   ],
   "source": [
    "inv_image = cv2.idct(dct)\n",
    "inv_image = np.uint8(np.abs(inv_image))\n",
    "cv2.imwrite(\"dtc_inv.png\", inv_image)"
   ]
  },
  {
   "cell_type": "code",
   "execution_count": 34,
   "metadata": {},
   "outputs": [
    {
     "ename": "AttributeError",
     "evalue": "module 'numpy' has no attribute 'permutation'",
     "output_type": "error",
     "traceback": [
      "\u001b[0;31m---------------------------------------------------------------------------\u001b[0m",
      "\u001b[0;31mAttributeError\u001b[0m                            Traceback (most recent call last)",
      "\u001b[0;32m<ipython-input-34-5372b487ade4>\u001b[0m in \u001b[0;36m<module>\u001b[0;34m\u001b[0m\n\u001b[1;32m     11\u001b[0m \u001b[0;31m# Create a permutation from 1 to nx*ny and choose the first k numbers\u001b[0m\u001b[0;34m\u001b[0m\u001b[0;34m\u001b[0m\u001b[0;34m\u001b[0m\u001b[0m\n\u001b[1;32m     12\u001b[0m \u001b[0mAtest\u001b[0m \u001b[0;34m=\u001b[0m \u001b[0mnp\u001b[0m\u001b[0;34m.\u001b[0m\u001b[0mzeros\u001b[0m\u001b[0;34m(\u001b[0m\u001b[0;34m(\u001b[0m\u001b[0mnx\u001b[0m\u001b[0;34m,\u001b[0m \u001b[0mny\u001b[0m\u001b[0;34m)\u001b[0m\u001b[0;34m)\u001b[0m\u001b[0;34m.\u001b[0m\u001b[0mreshape\u001b[0m\u001b[0;34m(\u001b[0m\u001b[0;36m1\u001b[0m\u001b[0;34m,\u001b[0m \u001b[0mnx\u001b[0m\u001b[0;34m*\u001b[0m\u001b[0mny\u001b[0m\u001b[0;34m)\u001b[0m\u001b[0;34m\u001b[0m\u001b[0;34m\u001b[0m\u001b[0m\n\u001b[0;32m---> 13\u001b[0;31m \u001b[0mr1\u001b[0m \u001b[0;34m=\u001b[0m \u001b[0mnp\u001b[0m\u001b[0;34m.\u001b[0m\u001b[0mpermutation\u001b[0m\u001b[0;34m(\u001b[0m\u001b[0marange\u001b[0m\u001b[0;34m(\u001b[0m\u001b[0;36m1\u001b[0m\u001b[0;34m,\u001b[0m \u001b[0mnx\u001b[0m\u001b[0;34m*\u001b[0m\u001b[0mny\u001b[0m\u001b[0;34m)\u001b[0m\u001b[0;34m)\u001b[0m\u001b[0;34m\u001b[0m\u001b[0;34m\u001b[0m\u001b[0m\n\u001b[0m\u001b[1;32m     14\u001b[0m \u001b[0mr1k\u001b[0m \u001b[0;34m=\u001b[0m \u001b[0mr1\u001b[0m\u001b[0;34m[\u001b[0m\u001b[0;36m1\u001b[0m\u001b[0;34m:\u001b[0m\u001b[0mk\u001b[0m\u001b[0;34m+\u001b[0m\u001b[0;36m1\u001b[0m\u001b[0;34m]\u001b[0m\u001b[0;34m\u001b[0m\u001b[0;34m\u001b[0m\u001b[0m\n\u001b[1;32m     15\u001b[0m \u001b[0;34m\u001b[0m\u001b[0m\n",
      "\u001b[0;32m~/Documents/Studia/Metody rozpoznawania obrazów/Metody-Rozpoznawania-Obrazow/venv/lib/python3.8/site-packages/numpy/__init__.py\u001b[0m in \u001b[0;36m__getattr__\u001b[0;34m(attr)\u001b[0m\n\u001b[1;32m    217\u001b[0m                 \u001b[0;32mreturn\u001b[0m \u001b[0mTester\u001b[0m\u001b[0;34m\u001b[0m\u001b[0;34m\u001b[0m\u001b[0m\n\u001b[1;32m    218\u001b[0m             \u001b[0;32melse\u001b[0m\u001b[0;34m:\u001b[0m\u001b[0;34m\u001b[0m\u001b[0;34m\u001b[0m\u001b[0m\n\u001b[0;32m--> 219\u001b[0;31m                 raise AttributeError(\"module {!r} has no attribute \"\n\u001b[0m\u001b[1;32m    220\u001b[0m                                      \"{!r}\".format(__name__, attr))\n\u001b[1;32m    221\u001b[0m \u001b[0;34m\u001b[0m\u001b[0m\n",
      "\u001b[0;31mAttributeError\u001b[0m: module 'numpy' has no attribute 'permutation'"
     ]
    }
   ],
   "source": [
    "from PIL import Image\n",
    "from scipy.fftpack import dct, idct\n",
    "from sklearn.linear_model import Lasso\n",
    "\n",
    "# Loading image in grayscale and obtaining its dimensions\n",
    "im = Image.open('coffee-cup.jpg').convert('L')\n",
    "nx, ny = im.shape\n",
    "# Number of sample points used to reconstruct image\n",
    "k = 1000\n",
    "\n",
    "# Create a permutation from 1 to nx*ny and choose the first k numbers\n",
    "Atest = zeros((nx, ny)).reshape(1, nx*ny)\n",
    "r1 = permutation(arange(1, nx*ny))\n",
    "r1k = r1[1:k+1]\n",
    "\n",
    "# Suppose the first number in the permutation is 42. Then choose the 42th\n",
    "# elements in a matrix full of zeros and change it to 1. Apply a discrete\n",
    "# cosine transformation to this matrix, and add the result to other matrix\n",
    "# Adelta as a new row.\n",
    "Adelta = zeros((k, nx*ny))\n",
    "for i, j in enumerate(r1k):\n",
    "    Atest[0,j] = 1\n",
    "    Adelta[i, :] = dct(Atest)\n",
    "    Atest[0, j] = 0\n",
    "\n",
    "# Use the same permutation to sample the image to be reconstructed\n",
    "image1 = im.reshape(nx*ny,1)\n",
    "b = image1[r1k]\n",
    "\n",
    "# Solve the optimization problem Adelta * x = b\n",
    "lasso = Lasso(alpha=0.001)\n",
    "lasso.fit(Adelta,b)"
   ]
  },
  {
   "cell_type": "code",
   "execution_count": null,
   "metadata": {},
   "outputs": [],
   "source": [
    "fig = figure()\n",
    "ax = fig.add_subplot(121)\n",
    "ax2 = fig.add_subplot(122)\n",
    "ax.imshow(recons)\n",
    "ax2.imshow(recons2)"
   ]
  }
 ],
 "metadata": {
  "kernelspec": {
   "display_name": "venv",
   "language": "python",
   "name": "venv"
  },
  "language_info": {
   "codemirror_mode": {
    "name": "ipython",
    "version": 3
   },
   "file_extension": ".py",
   "mimetype": "text/x-python",
   "name": "python",
   "nbconvert_exporter": "python",
   "pygments_lexer": "ipython3",
   "version": "3.8.6"
  }
 },
 "nbformat": 4,
 "nbformat_minor": 4
}
